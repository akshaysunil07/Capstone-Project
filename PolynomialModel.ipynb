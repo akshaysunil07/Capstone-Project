{
 "cells": [
  {
   "cell_type": "code",
   "execution_count": 1,
   "id": "elegant-defense",
   "metadata": {},
   "outputs": [],
   "source": [
    "import numpy as np\n",
    "import pandas as pd\n",
    "import matplotlib.pyplot as plt\n",
    "import seaborn as sns\n",
    "import warnings\n",
    "warnings.filterwarnings('ignore')\n",
    "\n",
    "df1 = pd.read_csv('AD-Tech.csv')\n",
    "df = df1.sample(n=50000,random_state=10).reset_index(drop=True)\n"
   ]
  },
  {
   "cell_type": "code",
   "execution_count": 2,
   "id": "demographic-remark",
   "metadata": {},
   "outputs": [
    {
     "data": {
      "text/plain": [
       "Index(['date', 'site_id', 'ad_type_id', 'geo_id', 'device_category_id',\n",
       "       'advertiser_id', 'order_id', 'line_item_type_id', 'os_id',\n",
       "       'integration_type_id', 'monetization_channel_id', 'ad_unit_id',\n",
       "       'total_impressions', 'total_revenue', 'viewable_impressions',\n",
       "       'measurable_impressions', 'revenue_share_percent'],\n",
       "      dtype='object')"
      ]
     },
     "execution_count": 2,
     "metadata": {},
     "output_type": "execute_result"
    }
   ],
   "source": [
    "df.columns"
   ]
  },
  {
   "cell_type": "code",
   "execution_count": 3,
   "id": "blocked-phenomenon",
   "metadata": {},
   "outputs": [],
   "source": [
    "cat_col=['date','geo_id','order_id','site_id', 'ad_type_id','device_category_id', 'advertiser_id',\n",
    "         'line_item_type_id', 'os_id','monetization_channel_id']\n",
    "\n",
    "scat_col = ['site_id', 'ad_type_id','device_category_id', 'advertiser_id',\n",
    "         'line_item_type_id', 'os_id','monetization_channel_id']\n",
    "\n",
    "for i in cat_col:\n",
    "    df[i]=df[i].astype('object')"
   ]
  },
  {
   "cell_type": "code",
   "execution_count": 4,
   "id": "obvious-victor",
   "metadata": {},
   "outputs": [],
   "source": [
    "df.drop(['ad_unit_id','revenue_share_percent','integration_type_id'],axis=1,inplace=True)\n",
    "df.drop(['ad_type_id','site_id','advertiser_id'],axis=1,inplace=True)\n",
    "df.drop(['date','geo_id','order_id'],axis=1,inplace=True)"
   ]
  },
  {
   "cell_type": "code",
   "execution_count": 8,
   "id": "interested-orleans",
   "metadata": {},
   "outputs": [],
   "source": [
    "Xd = df.drop('total_revenue',axis=1)\n",
    "y = df['total_revenue']"
   ]
  },
  {
   "cell_type": "code",
   "execution_count": 9,
   "id": "standing-automation",
   "metadata": {},
   "outputs": [],
   "source": [
    "X=pd.get_dummies(Xd,drop_first=True)"
   ]
  },
  {
   "cell_type": "code",
   "execution_count": 10,
   "id": "metallic-mention",
   "metadata": {},
   "outputs": [],
   "source": [
    "pc_col=['total_impressions', 'viewable_impressions', 'measurable_impressions']"
   ]
  },
  {
   "cell_type": "code",
   "execution_count": 11,
   "id": "clinical-vatican",
   "metadata": {},
   "outputs": [],
   "source": [
    "from sklearn.preprocessing import StandardScaler\n",
    "ss = StandardScaler()"
   ]
  },
  {
   "cell_type": "code",
   "execution_count": 12,
   "id": "grateful-wages",
   "metadata": {},
   "outputs": [],
   "source": [
    "X[pc_col]=pd.DataFrame(ss.fit_transform(X[pc_col]),columns=[pc_col])"
   ]
  },
  {
   "cell_type": "code",
   "execution_count": 38,
   "id": "false-phenomenon",
   "metadata": {},
   "outputs": [],
   "source": [
    "X_pca = X.copy()"
   ]
  },
  {
   "cell_type": "code",
   "execution_count": 39,
   "id": "japanese-phoenix",
   "metadata": {},
   "outputs": [],
   "source": [
    "pca = PCA(n_components=1)\n",
    "X_pca['PC']=pca.fit_transform(X[pc_col])"
   ]
  },
  {
   "cell_type": "code",
   "execution_count": 47,
   "id": "smart-columbia",
   "metadata": {},
   "outputs": [],
   "source": [
    "X_pca.drop(pc_col,axis=1,inplace=True)"
   ]
  },
  {
   "cell_type": "code",
   "execution_count": 54,
   "id": "speaking-stroke",
   "metadata": {},
   "outputs": [],
   "source": [
    "from sklearn.preprocessing import PolynomialFeatures \n",
    "\n",
    "poly = PolynomialFeatures(degree = 4)\n",
    "X_pol = poly.fit_transform(X_pca)"
   ]
  },
  {
   "cell_type": "code",
   "execution_count": 55,
   "id": "superb-translator",
   "metadata": {},
   "outputs": [],
   "source": [
    "X_trainp,X_testp,y_trainp,y_testp = train_test_split(X_pol,y,test_size=0.2,random_state=4)"
   ]
  },
  {
   "cell_type": "code",
   "execution_count": 56,
   "id": "instrumental-scout",
   "metadata": {},
   "outputs": [
    {
     "name": "stdout",
     "output_type": "stream",
     "text": [
      "Train\n",
      "R2 Score: 0.8209180691005058\n",
      "Root Mean Squared Error: 0.27979982716183166\n",
      "Mean Absolute Percentage Error: 19070020989646.363\n",
      "\n",
      "\n",
      "Test\n",
      "R2 Score: 0.7887193097371168\n",
      "Root Mean Squared Error: 0.28634148449270524\n",
      "Mean Absolute Percentage Error: 20835571188056.668\n"
     ]
    }
   ],
   "source": [
    "lr = LinearRegression()\n",
    "lr.fit(X_trainp,y_train)\n",
    "y_train_pred=lr.predict(X_trainp)\n",
    "\n",
    "print('Train')\n",
    "print('R2 Score:',r2_score(y_train,y_train_pred))\n",
    "print('Root Mean Squared Error:',np.sqrt(mean_squared_error(y_train,y_train_pred)))\n",
    "print('Mean Absolute Percentage Error:',mean_absolute_percentage_error(y_train,y_train_pred))\n",
    "\n",
    "y_test_pred=lr.predict(X_testp)\n",
    "\n",
    "print('\\n\\nTest')\n",
    "print('R2 Score:',r2_score(y_test,y_test_pred))\n",
    "print('Root Mean Squared Error:',np.sqrt(mean_squared_error(y_test,y_test_pred)))\n",
    "print('Mean Absolute Percentage Error:',mean_absolute_percentage_error(y_test,y_test_pred))"
   ]
  },
  {
   "cell_type": "code",
   "execution_count": 57,
   "id": "reported-quantity",
   "metadata": {},
   "outputs": [],
   "source": [
    "from sklearn.preprocessing import PolynomialFeatures \n",
    "\n",
    "poly = PolynomialFeatures(degree = 3)\n",
    "X_pol3 = poly.fit_transform(X_pca)"
   ]
  },
  {
   "cell_type": "code",
   "execution_count": 58,
   "id": "younger-sleeping",
   "metadata": {},
   "outputs": [],
   "source": [
    "X_train3,X_test3,y_train3,y_test3 = train_test_split(X_pol3,y,test_size=0.2,random_state=4)"
   ]
  },
  {
   "cell_type": "code",
   "execution_count": 60,
   "id": "systematic-medline",
   "metadata": {},
   "outputs": [
    {
     "name": "stdout",
     "output_type": "stream",
     "text": [
      "Train\n",
      "R2 Score: 0.8045092791600438\n",
      "Root Mean Squared Error: 0.2923375693521415\n",
      "Mean Absolute Percentage Error: 25252248586870.84\n",
      "\n",
      "\n",
      "Test\n",
      "R2 Score: 0.7793404753419543\n",
      "Root Mean Squared Error: 0.2926278845750578\n",
      "Mean Absolute Percentage Error: 26761384311761.867\n"
     ]
    }
   ],
   "source": [
    "lr = LinearRegression()\n",
    "lr.fit(X_train3,y_train)\n",
    "y_train_pred=lr.predict(X_train3)\n",
    "\n",
    "print('Train')\n",
    "print('R2 Score:',r2_score(y_train,y_train_pred))\n",
    "print('Root Mean Squared Error:',np.sqrt(mean_squared_error(y_train,y_train_pred)))\n",
    "print('Mean Absolute Percentage Error:',mean_absolute_percentage_error(y_train,y_train_pred))\n",
    "\n",
    "y_test_pred=lr.predict(X_test3)\n",
    "\n",
    "print('\\n\\nTest')\n",
    "print('R2 Score:',r2_score(y_test,y_test_pred))\n",
    "print('Root Mean Squared Error:',np.sqrt(mean_squared_error(y_test,y_test_pred)))\n",
    "print('Mean Absolute Percentage Error:',mean_absolute_percentage_error(y_test,y_test_pred))"
   ]
  },
  {
   "cell_type": "code",
   "execution_count": null,
   "id": "everyday-singapore",
   "metadata": {},
   "outputs": [],
   "source": []
  }
 ],
 "metadata": {
  "kernelspec": {
   "display_name": "Python 3",
   "language": "python",
   "name": "python3"
  },
  "language_info": {
   "codemirror_mode": {
    "name": "ipython",
    "version": 3
   },
   "file_extension": ".py",
   "mimetype": "text/x-python",
   "name": "python",
   "nbconvert_exporter": "python",
   "pygments_lexer": "ipython3",
   "version": "3.8.8"
  }
 },
 "nbformat": 4,
 "nbformat_minor": 5
}
