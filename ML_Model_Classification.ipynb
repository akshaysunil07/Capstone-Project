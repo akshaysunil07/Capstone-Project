{
 "cells": [
  {
   "cell_type": "code",
   "execution_count": 1,
   "id": "elegant-defense",
   "metadata": {},
   "outputs": [],
   "source": [
    "import numpy as np\n",
    "import pandas as pd\n",
    "import matplotlib.pyplot as plt\n",
    "import seaborn as sns\n",
    "import warnings\n",
    "warnings.filterwarnings('ignore')\n",
    "\n",
    "df1 = pd.read_csv('AD-Tech.csv')\n",
    "df = df1.sample(n=50000,random_state=10).reset_index(drop=True)\n"
   ]
  },
  {
   "cell_type": "code",
   "execution_count": 2,
   "id": "demographic-remark",
   "metadata": {},
   "outputs": [
    {
     "data": {
      "text/plain": [
       "Index(['date', 'site_id', 'ad_type_id', 'geo_id', 'device_category_id',\n",
       "       'advertiser_id', 'order_id', 'line_item_type_id', 'os_id',\n",
       "       'integration_type_id', 'monetization_channel_id', 'ad_unit_id',\n",
       "       'total_impressions', 'total_revenue', 'viewable_impressions',\n",
       "       'measurable_impressions', 'revenue_share_percent'],\n",
       "      dtype='object')"
      ]
     },
     "execution_count": 2,
     "metadata": {},
     "output_type": "execute_result"
    }
   ],
   "source": [
    "df.columns"
   ]
  },
  {
   "cell_type": "code",
   "execution_count": 3,
   "id": "blocked-phenomenon",
   "metadata": {},
   "outputs": [],
   "source": [
    "cat_col=['date','geo_id','order_id','site_id', 'ad_type_id','device_category_id', 'advertiser_id',\n",
    "         'line_item_type_id', 'os_id','monetization_channel_id']\n",
    "\n",
    "scat_col = ['site_id', 'ad_type_id','device_category_id', 'advertiser_id',\n",
    "         'line_item_type_id', 'os_id','monetization_channel_id']\n",
    "\n",
    "for i in cat_col:\n",
    "    df[i]=df[i].astype('object')"
   ]
  },
  {
   "cell_type": "code",
   "execution_count": 4,
   "id": "obvious-victor",
   "metadata": {},
   "outputs": [],
   "source": [
    "df.drop(['ad_unit_id','revenue_share_percent','integration_type_id'],axis=1,inplace=True)\n",
    "df.drop(['ad_type_id','site_id','advertiser_id'],axis=1,inplace=True)\n",
    "df.drop(['date','geo_id','order_id'],axis=1,inplace=True)"
   ]
  },
  {
   "cell_type": "code",
   "execution_count": 5,
   "id": "interested-orleans",
   "metadata": {},
   "outputs": [],
   "source": [
    "Xd = df.drop('total_revenue',axis=1)\n",
    "y = df['total_revenue']"
   ]
  },
  {
   "cell_type": "code",
   "execution_count": 6,
   "id": "standing-automation",
   "metadata": {},
   "outputs": [],
   "source": [
    "X=pd.get_dummies(Xd,drop_first=True)"
   ]
  },
  {
   "cell_type": "code",
   "execution_count": 14,
   "id": "serial-narrative",
   "metadata": {},
   "outputs": [
    {
     "data": {
      "image/png": "[encoded data removed]",
      "text/plain": [
       "<Figure size 432x288 with 1 Axes>"
      ]
     },
     "metadata": {
      "needs_background": "light"
     },
     "output_type": "display_data"
    }
   ],
   "source": [
    "sns.distplot(y[(y<=0.4) & (y>0)],kde=False)\n",
    "plt.show()"
   ]
  },
  {
   "cell_type": "code",
   "execution_count": 15,
   "id": "continental-drill",
   "metadata": {},
   "outputs": [
    {
     "data": {
      "image/png": "[encoded data removed]",
      "text/plain": [
       "<Figure size 432x288 with 1 Axes>"
      ]
     },
     "metadata": {
      "needs_background": "light"
     },
     "output_type": "display_data"
    }
   ],
   "source": [
    "sns.distplot(y[y>1],kde=False)\n",
    "plt.show()"
   ]
  },
  {
   "cell_type": "code",
   "execution_count": 17,
   "id": "impaired-attendance",
   "metadata": {},
   "outputs": [
    {
     "data": {
      "image/png": "[encoded data removed]",
      "text/plain": [
       "<Figure size 432x288 with 1 Axes>"
      ]
     },
     "metadata": {
      "needs_background": "light"
     },
     "output_type": "display_data"
    }
   ],
   "source": [
    "sns.distplot(y[y>1],kde=False,bins=[0,1,3,5,10])\n",
    "plt.show()"
   ]
  },
  {
   "cell_type": "code",
   "execution_count": 46,
   "id": "molecular-trial",
   "metadata": {},
   "outputs": [],
   "source": [
    "cls=y.apply(lambda x: 0 if x==0 else 1)"
   ]
  },
  {
   "cell_type": "code",
   "execution_count": 47,
   "id": "ambient-perspective",
   "metadata": {},
   "outputs": [],
   "source": [
    "pc_col=['total_impressions', 'viewable_impressions', 'measurable_impressions']"
   ]
  },
  {
   "cell_type": "code",
   "execution_count": 48,
   "id": "paperback-absorption",
   "metadata": {},
   "outputs": [],
   "source": [
    "from sklearn.preprocessing import StandardScaler\n",
    "ss = StandardScaler()"
   ]
  },
  {
   "cell_type": "code",
   "execution_count": 49,
   "id": "abroad-lingerie",
   "metadata": {},
   "outputs": [],
   "source": [
    "X[pc_col]=pd.DataFrame(ss.fit_transform(X[pc_col]),columns=[pc_col])"
   ]
  },
  {
   "cell_type": "code",
   "execution_count": 61,
   "id": "unlimited-receiver",
   "metadata": {},
   "outputs": [],
   "source": [
    "from sklearn.model_selection import train_test_split\n",
    "X_train,X_test,y_train,y_test = train_test_split(X,cls,test_size=0.2,random_state=4)"
   ]
  },
  {
   "cell_type": "code",
   "execution_count": 62,
   "id": "aerial-vault",
   "metadata": {},
   "outputs": [
    {
     "data": {
      "text/plain": [
       "PCA()"
      ]
     },
     "execution_count": 62,
     "metadata": {},
     "output_type": "execute_result"
    }
   ],
   "source": [
    "from sklearn.decomposition import PCA\n",
    "pca = PCA()\n",
    "pca.fit(X[pc_col])"
   ]
  },
  {
   "cell_type": "code",
   "execution_count": 63,
   "id": "quick-phase",
   "metadata": {},
   "outputs": [
    {
     "data": {
      "text/plain": [
       "array([0.95351914, 0.99851015, 1.        ])"
      ]
     },
     "execution_count": 63,
     "metadata": {},
     "output_type": "execute_result"
    }
   ],
   "source": [
    "np.cumsum(pca.explained_variance_ratio_)"
   ]
  },
  {
   "cell_type": "code",
   "execution_count": 64,
   "id": "functional-hotel",
   "metadata": {},
   "outputs": [],
   "source": [
    "pca = PCA(n_components=1)\n",
    "X_train['PC'] = pca.fit_transform(X_train[pc_col])\n",
    "X_test['PC'] = pca.transform(X_test[pc_col])"
   ]
  },
  {
   "cell_type": "code",
   "execution_count": 65,
   "id": "informative-fusion",
   "metadata": {},
   "outputs": [],
   "source": [
    "X_train.drop(pc_col,axis=1,inplace=True)\n",
    "X_test.drop(pc_col,axis=1,inplace=True)"
   ]
  },
  {
   "cell_type": "code",
   "execution_count": 72,
   "id": "sixth-beast",
   "metadata": {},
   "outputs": [],
   "source": [
    "from sklearn.linear_model import LogisticRegression\n",
    "from sklearn.metrics import roc_auc_score,accuracy_score,f1_score,confusion_matrix,precision_score,recall_score"
   ]
  },
  {
   "cell_type": "code",
   "execution_count": 73,
   "id": "transparent-integral",
   "metadata": {},
   "outputs": [
    {
     "name": "stdout",
     "output_type": "stream",
     "text": [
      "Train\n",
      "ROC AUC Score: 0.9311558627932655\n",
      "F1 Score: 0.8549622352506207\n",
      "Accuracy Score: 0.8627\n",
      "Precision Score 0.856727003281465\n",
      "Recall Score 0.8532047227493148\n",
      "\n",
      "\n",
      "Test\n",
      "ROC AUC Score: 0.9348302816018457\n",
      "F1 Score: 0.8610198240220504\n",
      "Accuracy Score: 0.8689\n",
      "Precision Score 0.8625743415463042\n",
      "Recall Score 0.8594708994708995\n"
     ]
    }
   ],
   "source": [
    "lr = LogisticRegression()\n",
    "lr.fit(X_train,y_train)\n",
    "y_train_pred=lr.predict(X_train)\n",
    "y_train_prob=lr.predict_proba(X_train)[:,1]\n",
    "\n",
    "print('Train')\n",
    "print('ROC AUC Score:',roc_auc_score(y_train,y_train_prob))\n",
    "print('F1 Score:',f1_score(y_train,y_train_pred))\n",
    "print('Accuracy Score:',accuracy_score(y_train,y_train_pred))\n",
    "print('Precision Score',precision_score(y_train,y_train_pred))\n",
    "print('Recall Score',recall_score(y_train,y_train_pred))\n",
    "\n",
    "y_test_pred=lr.predict(X_test)\n",
    "y_test_prob=lr.predict_proba(X_test)[:,1]\n",
    "\n",
    "print('\\n\\nTest')\n",
    "print('ROC AUC Score:',roc_auc_score(y_test,y_test_prob))\n",
    "print('F1 Score:',f1_score(y_test,y_test_pred))\n",
    "print('Accuracy Score:',accuracy_score(y_test,y_test_pred))\n",
    "print('Precision Score',precision_score(y_test,y_test_pred))\n",
    "print('Recall Score',recall_score(y_test,y_test_pred))"
   ]
  },
  {
   "cell_type": "code",
   "execution_count": 74,
   "id": "twenty-haiti",
   "metadata": {},
   "outputs": [],
   "source": [
    "from sklearn.metrics import classification_report"
   ]
  },
  {
   "cell_type": "code",
   "execution_count": 75,
   "id": "outdoor-nashville",
   "metadata": {
    "scrolled": false
   },
   "outputs": [
    {
     "name": "stdout",
     "output_type": "stream",
     "text": [
      "Classification\n",
      "\n",
      "Train\n",
      "              precision    recall  f1-score   support\n",
      "\n",
      "           0       0.87      0.87      0.87     21028\n",
      "           1       0.86      0.85      0.85     18972\n",
      "\n",
      "    accuracy                           0.86     40000\n",
      "   macro avg       0.86      0.86      0.86     40000\n",
      "weighted avg       0.86      0.86      0.86     40000\n",
      "\n",
      "\n",
      "Test\n",
      "              precision    recall  f1-score   support\n",
      "\n",
      "           0       0.87      0.88      0.88      5275\n",
      "           1       0.86      0.86      0.86      4725\n",
      "\n",
      "    accuracy                           0.87     10000\n",
      "   macro avg       0.87      0.87      0.87     10000\n",
      "weighted avg       0.87      0.87      0.87     10000\n",
      "\n"
     ]
    }
   ],
   "source": [
    "print('Classification')\n",
    "print('\\nTrain') \n",
    "print(classification_report(y_train,y_train_pred))\n",
    "print('\\nTest') \n",
    "print(classification_report(y_test,y_test_pred))"
   ]
  },
  {
   "cell_type": "code",
   "execution_count": 77,
   "id": "european-taxation",
   "metadata": {
    "scrolled": true
   },
   "outputs": [
    {
     "name": "stdout",
     "output_type": "stream",
     "text": [
      "Confusion Matrix\n",
      "\n",
      "Train\n",
      "[[18321  2707]\n",
      " [ 2785 16187]]\n",
      "\n",
      "Test\n",
      "[[4628  647]\n",
      " [ 664 4061]]\n"
     ]
    }
   ],
   "source": [
    "print('Confusion Matrix')\n",
    "print('\\nTrain') \n",
    "print(confusion_matrix(y_train,y_train_pred))\n",
    "print('\\nTest') \n",
    "print(confusion_matrix(y_test,y_test_pred))"
   ]
  },
  {
   "cell_type": "code",
   "execution_count": 78,
   "id": "hindu-crest",
   "metadata": {},
   "outputs": [],
   "source": [
    "from sklearn.metrics import roc_curve"
   ]
  },
  {
   "cell_type": "code",
   "execution_count": 92,
   "id": "proof-student",
   "metadata": {},
   "outputs": [],
   "source": [
    "fpr, tpr, thresholds = roc_curve(y_test,y_test_prob)"
   ]
  },
  {
   "cell_type": "code",
   "execution_count": 93,
   "id": "sapphire-tournament",
   "metadata": {},
   "outputs": [],
   "source": [
    "thresholds[0]=thresholds[0]-1"
   ]
  },
  {
   "cell_type": "code",
   "execution_count": 94,
   "id": "generic-wrestling",
   "metadata": {},
   "outputs": [
    {
     "data": {
      "text/plain": [
       "array([1.00000000e+00, 1.00000000e+00, 9.99999999e-01, 9.99999999e-01,\n",
       "       9.98450667e-01, 9.98429434e-01, 9.95255157e-01, 9.95254215e-01,\n",
       "       9.95206876e-01, 9.95157145e-01, 9.95108086e-01, 9.95105929e-01,\n",
       "       9.95056137e-01, 9.95055156e-01, 9.95004850e-01, 9.93594752e-01,\n",
       "       9.93528403e-01, 9.93260117e-01, 9.93190326e-01, 9.93188977e-01,\n",
       "       9.93119817e-01, 9.91252994e-01, 9.91138325e-01, 9.82035368e-01,\n",
       "       9.81897700e-01, 9.81787057e-01, 9.81712417e-01, 9.81708836e-01,\n",
       "       9.81525273e-01, 9.76663052e-01, 9.76539458e-01, 9.76309882e-01,\n",
       "       9.76073458e-01, 9.75835773e-01, 9.75820620e-01, 9.75580487e-01,\n",
       "       9.75579435e-01, 9.75451423e-01, 9.75335906e-01, 9.75331108e-01,\n",
       "       9.75284444e-01, 9.75085165e-01, 9.73009979e-01, 9.72736253e-01,\n",
       "       9.72459830e-01, 9.72186078e-01, 9.72127036e-01, 9.71904237e-01,\n",
       "       9.69380308e-01, 9.69192571e-01, 9.67072051e-01, 9.66949301e-01,\n",
       "       9.66763311e-01, 9.66616219e-01, 9.66609783e-01, 9.66279896e-01,\n",
       "       9.66273398e-01, 9.65940305e-01, 9.62763099e-01, 9.62362010e-01,\n",
       "       9.57654307e-01, 9.57329653e-01, 9.57321506e-01, 9.57178604e-01,\n",
       "       9.56903945e-01, 9.56895720e-01, 9.56474183e-01, 9.38741521e-01,\n",
       "       9.38661720e-01, 9.32722109e-01, 9.32619759e-01, 9.27774310e-01,\n",
       "       9.27769052e-01, 9.27362510e-01, 9.27322199e-01, 9.26281123e-01,\n",
       "       9.25884321e-01, 9.24591296e-01, 9.24562610e-01, 9.24438202e-01,\n",
       "       9.24257583e-01, 9.22407225e-01, 9.22078991e-01, 9.22064661e-01,\n",
       "       9.22050328e-01, 9.22035993e-01, 9.21330498e-01, 9.21316042e-01,\n",
       "       9.21301584e-01, 9.21287123e-01, 9.20575436e-01, 9.20560853e-01,\n",
       "       9.20546268e-01, 9.20531680e-01, 9.19846205e-01, 9.19813757e-01,\n",
       "       9.19799046e-01, 9.19784333e-01, 9.19354817e-01, 9.19045415e-01,\n",
       "       9.19015735e-01, 9.18568127e-01, 9.18270366e-01, 9.18255398e-01,\n",
       "       9.17754906e-01, 9.17488563e-01, 9.17473464e-01, 9.17047863e-01,\n",
       "       9.16834998e-01, 9.16699960e-01, 9.14541842e-01, 9.13817542e-01,\n",
       "       9.11390121e-01, 9.11367459e-01, 9.11351348e-01, 9.11303000e-01,\n",
       "       9.08821622e-01, 9.08815745e-01, 9.06244081e-01, 9.06227135e-01,\n",
       "       9.05379961e-01, 9.05359094e-01, 9.05329766e-01, 9.05307818e-01,\n",
       "       9.04447664e-01, 9.04414925e-01, 9.02068721e-01, 9.01743952e-01,\n",
       "       9.01726281e-01, 9.01690930e-01, 9.00838952e-01, 9.00825078e-01,\n",
       "       9.00223344e-01, 8.99930515e-01, 8.99926542e-01, 8.99872648e-01,\n",
       "       8.99193769e-01, 8.98988569e-01, 8.98974465e-01, 8.98970457e-01,\n",
       "       8.98963938e-01, 8.98952343e-01, 8.98934226e-01, 8.98042800e-01,\n",
       "       8.98024539e-01, 8.98006274e-01, 8.97988007e-01, 8.97093264e-01,\n",
       "       8.97089190e-01, 8.97074851e-01, 8.97070777e-01, 8.97052362e-01,\n",
       "       8.97033943e-01, 8.96168920e-01, 8.96109128e-01, 8.96090560e-01,\n",
       "       8.96071989e-01, 8.95486230e-01, 8.95158262e-01, 8.95139544e-01,\n",
       "       8.95124965e-01, 8.95120823e-01, 8.94720528e-01, 8.94661969e-01,\n",
       "       8.94203895e-01, 8.94180852e-01, 8.94161980e-01, 8.94143105e-01,\n",
       "       8.93218649e-01, 8.93199626e-01, 8.93195416e-01, 8.93176390e-01,\n",
       "       8.92302017e-01, 8.92225333e-01, 8.92201911e-01, 8.92182729e-01,\n",
       "       8.91223903e-01, 8.91200289e-01, 8.90932620e-01, 8.90679526e-01,\n",
       "       8.90000953e-01, 8.89196516e-01, 8.88411618e-01, 8.88229880e-01,\n",
       "       8.87196018e-01, 8.87156094e-01, 8.86133697e-01, 8.86113573e-01,\n",
       "       8.85216767e-01, 8.85082955e-01, 8.85062669e-01, 8.84459118e-01,\n",
       "       8.84044230e-01, 8.84023784e-01, 8.83436036e-01, 8.82997357e-01,\n",
       "       8.82976752e-01, 8.82956143e-01, 8.82668589e-01, 8.82425791e-01,\n",
       "       8.82364653e-01, 8.82343002e-01, 8.81900759e-01, 8.81879987e-01,\n",
       "       8.81610960e-01, 8.81304653e-01, 8.81179575e-01, 8.80837144e-01,\n",
       "       8.80816209e-01, 8.80527124e-01, 8.80215372e-01, 8.79929328e-01,\n",
       "       8.79744158e-01, 8.79723057e-01, 8.79287515e-01, 8.78642528e-01,\n",
       "       8.78452346e-01, 8.78409752e-01, 8.72827624e-01, 8.72783344e-01,\n",
       "       8.71649566e-01, 8.71627253e-01, 8.71582616e-01, 8.70484701e-01,\n",
       "       8.69924080e-01, 8.69333504e-01, 8.69331747e-01, 8.69288189e-01,\n",
       "       8.68127969e-01, 8.68059460e-01, 8.67407795e-01, 8.66959025e-01,\n",
       "       8.66936021e-01, 8.66913014e-01, 8.66062020e-01, 8.65758146e-01,\n",
       "       8.65734967e-01, 8.65711784e-01, 8.65688597e-01, 8.64773303e-01,\n",
       "       8.64548121e-01, 8.64524765e-01, 8.64501406e-01, 8.63596687e-01,\n",
       "       8.63328911e-01, 8.63305378e-01, 8.62152208e-01, 8.62076766e-01,\n",
       "       8.62053052e-01, 8.62029335e-01, 8.60932576e-01, 8.60862781e-01,\n",
       "       8.60838892e-01, 8.60815000e-01, 8.59619244e-01, 8.59615785e-01,\n",
       "       8.59591717e-01, 8.59567645e-01, 8.59332885e-01, 8.59284664e-01,\n",
       "       8.58701539e-01, 8.58359452e-01, 8.58335204e-01, 8.57977262e-01,\n",
       "       8.57093745e-01, 8.57069317e-01, 8.56915702e-01, 8.56757667e-01,\n",
       "       8.56733190e-01, 8.55964308e-01, 8.55818628e-01, 8.55529362e-01,\n",
       "       8.55504710e-01, 8.55480056e-01, 8.55455398e-01, 8.55357088e-01,\n",
       "       8.55156037e-01, 8.52946467e-01, 8.52896431e-01, 8.51590347e-01,\n",
       "       8.51565140e-01, 8.50300089e-01, 8.50274702e-01, 8.49451746e-01,\n",
       "       8.48949463e-01, 8.48074824e-01, 8.47666107e-01, 8.47640353e-01,\n",
       "       8.46347888e-01, 8.46296012e-01, 8.45486982e-01, 8.44994228e-01,\n",
       "       8.44968105e-01, 8.44095086e-01, 8.43630846e-01, 8.43604536e-01,\n",
       "       8.42577374e-01, 8.42257710e-01, 8.41265797e-01, 8.40874791e-01,\n",
       "       8.40503450e-01, 8.34225536e-01, 8.33199679e-01, 8.32972265e-01,\n",
       "       8.32916764e-01, 8.32889008e-01, 8.32861249e-01, 8.30659882e-01,\n",
       "       8.30324854e-01, 8.30100542e-01, 8.28858577e-01, 8.28830286e-01,\n",
       "       8.28801990e-01, 8.27502040e-01, 8.27410744e-01, 8.27382263e-01,\n",
       "       8.27162279e-01, 8.25924564e-01, 8.25895890e-01, 8.25603180e-01,\n",
       "       8.25574464e-01, 8.24428302e-01, 8.24399434e-01, 8.23442503e-01,\n",
       "       8.22921936e-01, 8.22892873e-01, 8.22284113e-01, 8.21405446e-01,\n",
       "       8.21114433e-01, 8.21106822e-01, 8.18158113e-01, 8.18069085e-01,\n",
       "       8.16580049e-01, 8.16520301e-01, 8.16490422e-01, 8.16454113e-01,\n",
       "       8.14998040e-01, 8.14991387e-01, 8.14975781e-01, 8.14961315e-01,\n",
       "       8.13452643e-01, 8.13392109e-01, 8.11904055e-01, 8.11873597e-01,\n",
       "       8.11843135e-01, 8.10292267e-01, 8.10284302e-01, 8.10253643e-01,\n",
       "       8.09681065e-01, 8.08746446e-01, 8.08715598e-01, 8.08691571e-01,\n",
       "       8.08684745e-01, 8.07168052e-01, 8.07143878e-01, 8.07137009e-01,\n",
       "       8.07105963e-01, 8.07074912e-01, 8.05555437e-01, 8.05548526e-01,\n",
       "       8.05517285e-01, 8.05486041e-01, 8.03957091e-01, 8.03918702e-01,\n",
       "       8.03894219e-01, 8.03887263e-01, 8.03855821e-01, 8.02380455e-01,\n",
       "       8.02278571e-01, 8.02253933e-01, 8.02246934e-01, 8.00730647e-01,\n",
       "       8.00628123e-01, 8.00603331e-01, 8.00596287e-01, 7.99038492e-01,\n",
       "       7.98967350e-01, 7.98935316e-01, 7.97367829e-01, 7.97296245e-01,\n",
       "       7.95654405e-01, 7.95621978e-01, 7.94060718e-01, 7.94028103e-01,\n",
       "       7.93930237e-01, 7.90680794e-01, 7.90647786e-01, 7.90614773e-01,\n",
       "       7.90581757e-01, 7.89726158e-01, 7.88925794e-01, 7.88892583e-01,\n",
       "       7.88329490e-01, 7.87226858e-01, 7.87160041e-01, 7.86601906e-01,\n",
       "       7.85450757e-01, 7.85417147e-01, 7.85116600e-01, 7.83697713e-01,\n",
       "       7.83663904e-01, 7.82787807e-01, 7.81968325e-01, 7.81934322e-01,\n",
       "       7.81698324e-01, 7.81019071e-01, 7.80201141e-01, 7.80194789e-01,\n",
       "       7.80160587e-01, 7.79580711e-01, 7.78410915e-01, 7.77931113e-01,\n",
       "       7.76616709e-01, 7.74501041e-01, 7.73983244e-01, 7.64207315e-01,\n",
       "       7.63483007e-01, 7.62079795e-01, 7.59571017e-01, 7.58407824e-01,\n",
       "       7.58213272e-01, 7.58176709e-01, 7.57818189e-01, 7.57781586e-01,\n",
       "       7.56306724e-01, 7.55909529e-01, 7.55835927e-01, 7.55799121e-01,\n",
       "       7.53990709e-01, 7.53953715e-01, 7.53916718e-01, 7.53879716e-01,\n",
       "       7.52061753e-01, 7.52024565e-01, 7.51987373e-01, 7.51950176e-01,\n",
       "       7.51061040e-01, 7.51023751e-01, 7.50426208e-01, 7.50047916e-01,\n",
       "       7.49683157e-01, 7.48173530e-01, 7.48135953e-01, 7.48098373e-01,\n",
       "       7.46747339e-01, 7.46214314e-01, 7.46176545e-01, 7.45197996e-01,\n",
       "       7.44245066e-01, 7.44207104e-01, 7.42927981e-01, 7.42265816e-01,\n",
       "       7.40276594e-01, 7.30932784e-01, 7.30893561e-01, 7.10511091e-01,\n",
       "       7.09929538e-01, 7.07830237e-01, 7.06868363e-01, 7.02569436e-01,\n",
       "       7.02551717e-01, 6.99344619e-01, 6.99302684e-01, 6.99260747e-01,\n",
       "       6.97559195e-01, 6.97117175e-01, 6.97086006e-01, 6.94922712e-01,\n",
       "       6.94270303e-01, 6.92761805e-01, 6.92719357e-01, 6.91619890e-01,\n",
       "       6.90549793e-01, 6.88329021e-01, 6.80241582e-01, 6.47119318e-01,\n",
       "       6.42417945e-01, 6.01625854e-01, 6.00926945e-01, 5.99759877e-01,\n",
       "       5.98437009e-01, 5.63074346e-01, 5.62631724e-01, 5.32991624e-01,\n",
       "       5.29465750e-01, 4.95104622e-01, 4.92512022e-01, 4.89969662e-01,\n",
       "       4.77066972e-01, 4.76917716e-01, 4.64246694e-01, 4.63627774e-01,\n",
       "       4.48856894e-01, 4.48807559e-01, 4.38911253e-01, 4.38763918e-01,\n",
       "       4.36211453e-01, 4.33711343e-01, 4.33687812e-01, 4.33662362e-01,\n",
       "       4.32323023e-01, 4.31214602e-01, 4.28623667e-01, 4.28574827e-01,\n",
       "       4.26231717e-01, 4.26182946e-01, 4.24508969e-01, 4.23551035e-01,\n",
       "       4.22219643e-01, 4.21166527e-01, 4.21081924e-01, 4.21069294e-01,\n",
       "       4.21020680e-01, 4.19511640e-01, 4.18591535e-01, 4.18555609e-01,\n",
       "       4.18543000e-01, 4.16660039e-01, 4.16117876e-01, 4.16069422e-01,\n",
       "       4.16020970e-01, 4.15574962e-01, 4.14816292e-01, 4.14166417e-01,\n",
       "       4.13600065e-01, 4.13551697e-01, 4.13515896e-01, 4.11843413e-01,\n",
       "       4.11086763e-01, 4.11038483e-01, 4.10486892e-01, 4.09789872e-01,\n",
       "       4.08961332e-01, 4.08578092e-01, 4.06510712e-01, 4.06074175e-01,\n",
       "       4.05497824e-01, 3.97011714e-01, 3.96451972e-01, 3.89669665e-01,\n",
       "       3.88490530e-01, 3.87310874e-01, 3.87111123e-01, 3.83350515e-01,\n",
       "       3.82773272e-01, 3.82214521e-01, 3.81124580e-01, 3.80291580e-01,\n",
       "       3.80231801e-01, 3.77421004e-01, 3.77408830e-01, 3.75021561e-01,\n",
       "       3.74928111e-01, 3.72873498e-01, 3.71481387e-01, 3.70311813e-01,\n",
       "       3.67999549e-01, 3.66604750e-01, 3.65487851e-01, 3.64199659e-01,\n",
       "       3.63142211e-01, 3.63085887e-01, 3.60782714e-01, 3.60644749e-01,\n",
       "       3.60610711e-01, 3.60576676e-01, 3.59593556e-01, 3.58506391e-01,\n",
       "       3.58348348e-01, 3.58312639e-01, 3.58256642e-01, 3.58176856e-01,\n",
       "       3.58108988e-01, 3.57208521e-01, 3.55966981e-01, 3.55921262e-01,\n",
       "       3.55875546e-01, 3.55762163e-01, 3.54693587e-01, 3.53638303e-01,\n",
       "       3.53592719e-01, 3.53547138e-01, 3.52922210e-01, 3.52390575e-01,\n",
       "       3.52323172e-01, 3.52289488e-01, 3.51316548e-01, 3.51271101e-01,\n",
       "       3.51235711e-01, 3.51225656e-01, 3.51180214e-01, 3.48978293e-01,\n",
       "       3.48956497e-01, 3.48911191e-01, 3.48865887e-01, 3.47739876e-01,\n",
       "       3.47694643e-01, 3.46625556e-01, 3.46603829e-01, 3.46558666e-01,\n",
       "       3.46525238e-01, 3.46513505e-01, 3.46480079e-01, 3.44403672e-01,\n",
       "       3.44258636e-01, 3.44213617e-01, 3.44135282e-01, 3.43643162e-01,\n",
       "       3.43049762e-01, 3.43004819e-01, 3.41921006e-01, 3.41876134e-01,\n",
       "       3.41842921e-01, 3.40860396e-01, 3.40716077e-01, 3.40426911e-01,\n",
       "       3.40000216e-01, 3.39591030e-01, 3.38366919e-01, 3.37367816e-01,\n",
       "       3.37268794e-01, 3.33738539e-01, 3.32746230e-01, 3.32394870e-01,\n",
       "       3.28200571e-01, 3.28156601e-01, 3.27648239e-01, 3.25961602e-01,\n",
       "       3.25917786e-01, 3.25873974e-01, 3.24709053e-01, 3.24697692e-01,\n",
       "       3.24242304e-01, 3.23643230e-01, 3.23632077e-01, 3.23599577e-01,\n",
       "       3.23340457e-01, 3.21420476e-01, 3.21376980e-01, 3.20209220e-01,\n",
       "       3.19205783e-01, 3.19162445e-01, 3.19119111e-01, 3.18818575e-01,\n",
       "       3.18780593e-01, 3.18472188e-01, 3.16956043e-01, 3.16912869e-01,\n",
       "       3.15796872e-01, 3.14714830e-01, 3.14671821e-01, 3.13986797e-01,\n",
       "       3.13560093e-01, 3.13027305e-01, 3.12482215e-01, 3.11997980e-01,\n",
       "       3.11885383e-01, 3.10258267e-01, 3.03304512e-01, 3.03093845e-01,\n",
       "       3.02026840e-01, 3.01293634e-01, 3.01117275e-01, 3.00823572e-01,\n",
       "       2.98897248e-01, 2.98855458e-01, 2.94526952e-01, 2.94444084e-01,\n",
       "       2.92335190e-01, 2.92252683e-01, 2.90651241e-01, 2.90194108e-01,\n",
       "       2.90153030e-01, 2.89214361e-01, 2.86062063e-01, 2.86021335e-01,\n",
       "       2.85980611e-01, 2.85939890e-01, 2.85899172e-01, 2.84237406e-01,\n",
       "       2.83948490e-01, 2.83907943e-01, 2.83877933e-01, 2.83134270e-01,\n",
       "       2.82860044e-01, 2.82354984e-01, 2.81844368e-01, 2.81804004e-01,\n",
       "       2.81774128e-01, 2.81763643e-01, 2.80760825e-01, 2.79749747e-01,\n",
       "       2.79709565e-01, 2.79669387e-01, 2.78229935e-01, 2.77664673e-01,\n",
       "       2.77624676e-01, 2.77584682e-01, 2.77146111e-01, 2.76591010e-01,\n",
       "       2.75872882e-01, 2.75796333e-01, 2.75589194e-01, 2.75549382e-01,\n",
       "       2.75519915e-01, 2.74520507e-01, 2.74480790e-01, 2.73523355e-01,\n",
       "       2.73483728e-01, 2.72459665e-01, 2.71467198e-01, 2.70064348e-01,\n",
       "       2.69420765e-01, 2.66945548e-01, 2.65733809e-01, 2.62108497e-01,\n",
       "       2.61761503e-01, 2.54088337e-01, 2.54004414e-01, 2.52014778e-01,\n",
       "       2.51230859e-01, 2.44394915e-01, 2.44385348e-01, 2.43347564e-01,\n",
       "       2.42548392e-01, 2.41549571e-01, 2.41464998e-01, 2.40575072e-01,\n",
       "       2.40538638e-01, 2.39584670e-01, 2.38757707e-01, 2.35007885e-01,\n",
       "       2.34972033e-01, 2.33928765e-01, 2.33112686e-01, 2.33077035e-01,\n",
       "       2.31334521e-01, 2.31299061e-01, 2.31263604e-01, 2.30382868e-01,\n",
       "       2.29495323e-01, 2.29460060e-01, 2.29433961e-01, 2.29424801e-01,\n",
       "       2.28548987e-01, 2.28513826e-01, 2.27666417e-01, 2.27631352e-01,\n",
       "       2.27605399e-01, 2.26725402e-01, 2.26664563e-01, 2.25847813e-01,\n",
       "       2.25812946e-01, 2.24934852e-01, 2.24912126e-01, 2.24039522e-01,\n",
       "       2.22957283e-01, 2.22241553e-01, 2.07533204e-01, 2.04174672e-01,\n",
       "       2.00856717e-01, 1.99632190e-01, 1.97579293e-01, 1.95940053e-01,\n",
       "       1.94342343e-01, 1.78352467e-01, 1.77641794e-01, 1.73176574e-01,\n",
       "       1.71718561e-01, 1.67393569e-01, 1.67179210e-01, 1.65952973e-01,\n",
       "       1.64452071e-01, 1.63128824e-01, 1.63059048e-01, 1.61648513e-01,\n",
       "       1.60998513e-01, 1.60569350e-01, 1.60343495e-01, 1.58931228e-01,\n",
       "       1.57596769e-01, 1.54888415e-01, 1.53425235e-01, 1.52218194e-01,\n",
       "       1.48226433e-01, 1.46548707e-01, 1.43729118e-01, 1.43162247e-01,\n",
       "       1.41894648e-01, 1.40228691e-01, 1.39411483e-01, 1.37558419e-01,\n",
       "       1.36964837e-01, 1.35347631e-01, 1.35139187e-01, 1.32984278e-01,\n",
       "       1.32961286e-01, 1.26015314e-01, 1.23769956e-01, 1.21559042e-01,\n",
       "       1.19403208e-01, 1.19382241e-01, 1.17239218e-01, 1.15315116e-01,\n",
       "       1.15149953e-01, 1.15129635e-01, 1.14261203e-01, 1.14097355e-01,\n",
       "       1.06204227e-01, 1.06071783e-01, 9.59542050e-02, 9.59241039e-02,\n",
       "       9.50239216e-02, 9.33055788e-02, 9.15985680e-02, 9.15819751e-02,\n",
       "       9.15653849e-02, 9.07391787e-02, 4.57091124e-02, 4.57004141e-02,\n",
       "       4.02074372e-02, 3.53064500e-02, 3.28436392e-02, 3.20518123e-02,\n",
       "       2.42153294e-02, 2.32586520e-02, 2.04790572e-02, 2.04710577e-02,\n",
       "       1.92672556e-02, 1.79527037e-02, 1.76809067e-02, 1.75940586e-02,\n",
       "       1.74156776e-02, 1.57398637e-02, 1.55830427e-02, 1.54247306e-02,\n",
       "       1.39772005e-02, 1.29433485e-02, 1.28115047e-02, 1.26809867e-02,\n",
       "       1.01602441e-02, 9.95569249e-03, 9.85397785e-03, 7.35712446e-03,\n",
       "       6.67068810e-03, 1.51848630e-03, 1.48765382e-03, 1.45744648e-03,\n",
       "       1.31514920e-03, 1.25418182e-05, 1.25393172e-05, 1.24124081e-05,\n",
       "       1.05620442e-05, 1.04530618e-05, 1.02384590e-05, 1.01348364e-05,\n",
       "       9.83021883e-06, 9.82825860e-06, 9.82629877e-06, 9.72684759e-06,\n",
       "       9.72490798e-06, 9.63032331e-06, 9.62648296e-06, 9.53095463e-06,\n",
       "       9.52905408e-06, 9.52715391e-06, 9.43073032e-06, 9.33528262e-06,\n",
       "       9.33342109e-06, 9.32278759e-06, 9.23895824e-06, 8.86565663e-06,\n",
       "       8.33573542e-06, 8.24972460e-06, 8.16622967e-06, 6.92052922e-06,\n",
       "       6.90657201e-06, 6.90381782e-06, 6.83530765e-06, 6.76477863e-06,\n",
       "       6.76342967e-06, 6.69497733e-06, 5.35048801e-06, 5.34942107e-06,\n",
       "       5.24168643e-06, 5.24064119e-06, 5.18760085e-06, 3.50051815e-06,\n",
       "       3.87838541e-07, 3.82257856e-07, 3.25272669e-07, 3.15433108e-07,\n",
       "       2.93401506e-07, 2.90489911e-07, 2.90431985e-07, 2.87492518e-07,\n",
       "       2.87435189e-07, 2.84526054e-07, 2.73138556e-07, 2.51489684e-07,\n",
       "       1.61391917e-07])"
      ]
     },
     "execution_count": 94,
     "metadata": {},
     "output_type": "execute_result"
    }
   ],
   "source": [
    "thresholds"
   ]
  },
  {
   "cell_type": "code",
   "execution_count": 95,
   "id": "everyday-singapore",
   "metadata": {},
   "outputs": [
    {
     "data": {
      "image/png": "[encoded data removed]",
      "text/plain": [
       "<Figure size 432x288 with 2 Axes>"
      ]
     },
     "metadata": {
      "needs_background": "light"
     },
     "output_type": "display_data"
    }
   ],
   "source": [
    "fig,ax = plt.subplots()\n",
    "ax.plot(fpr,tpr)\n",
    "ax.plot(fpr,fpr)\n",
    "ax.set_xlabel('FPR')\n",
    "ax.set_ylabel('TPR')\n",
    "ax1=ax.twinx()\n",
    "ax1.plot(fpr,thresholds,color='g')\n",
    "ax1.set_ylabel('Thresholds')\n",
    "plt.show()"
   ]
  },
  {
   "cell_type": "code",
   "execution_count": null,
   "id": "decimal-wagon",
   "metadata": {},
   "outputs": [],
   "source": []
  }
 ],
 "metadata": {
  "kernelspec": {
   "display_name": "Python 3",
   "language": "python",
   "name": "python3"
  },
  "language_info": {
   "codemirror_mode": {
    "name": "ipython",
    "version": 3
   },
   "file_extension": ".py",
   "mimetype": "text/x-python",
   "name": "python",
   "nbconvert_exporter": "python",
   "pygments_lexer": "ipython3",
   "version": "3.8.8"
  }
 },
 "nbformat": 4,
 "nbformat_minor": 5
}
